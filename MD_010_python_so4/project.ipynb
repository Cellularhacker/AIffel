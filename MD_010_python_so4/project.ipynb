{
  "nbformat": 4,
  "nbformat_minor": 0,
  "metadata": {
    "colab": {
      "provenance": []
    },
    "kernelspec": {
      "name": "python3",
      "display_name": "Python 3"
    },
    "language_info": {
      "name": "python"
    }
  },
  "cells": [
    {
      "cell_type": "markdown",
      "source": [
        "# 프로젝트 1 : 전화번호 가려주는 프로그램"
      ],
      "metadata": {
        "id": "jyBhARHU9gua"
      }
    },
    {
      "cell_type": "markdown",
      "source": [
        "#### Step 01. 원본 전화번호 형식을 정의"
      ],
      "metadata": {
        "id": "CfcvGiaZ-QDl"
      }
    },
    {
      "cell_type": "code",
      "source": [
        "numbers = '010-12345-23456'"
      ],
      "metadata": {
        "id": "on_vb_pR-0EE"
      },
      "execution_count": 1,
      "outputs": []
    },
    {
      "cell_type": "markdown",
      "source": [
        "#### Step 02. 맨 뒤의 5자리를 #으로 마스킹 처리하는 함수 정의"
      ],
      "metadata": {
        "id": "sABWXyBg-3Mv"
      }
    },
    {
      "cell_type": "code",
      "source": [
        "def change_num(nums):\n",
        "    answer = nums.replace(nums[-5:], '#####') # 코드를 직접 입력해 주세요.\n",
        "    return answer"
      ],
      "metadata": {
        "id": "DBhFLN7F-POd"
      },
      "execution_count": 2,
      "outputs": []
    },
    {
      "cell_type": "markdown",
      "source": [
        "#### Step 03. 실제로 함수를 이용하여 결과 값 확인해보기"
      ],
      "metadata": {
        "id": "wfMIddr8_I5c"
      }
    },
    {
      "cell_type": "code",
      "source": [
        "print(change_num(numbers))\n",
        "print(change_num('010-13579-24688'))"
      ],
      "metadata": {
        "colab": {
          "base_uri": "https://localhost:8080/"
        },
        "id": "nhQCJdDv_R2r",
        "outputId": "70fa5d10-3237-45f6-eb15-e0c728dc5710"
      },
      "execution_count": 3,
      "outputs": [
        {
          "output_type": "stream",
          "name": "stdout",
          "text": [
            "010-12345-#####\n",
            "010-13579-#####\n"
          ]
        }
      ]
    },
    {
      "cell_type": "markdown",
      "source": [
        "# 프로젝트 2 : 리스트 평탄화"
      ],
      "metadata": {
        "id": "UgWFP2wG_tAi"
      }
    },
    {
      "cell_type": "markdown",
      "source": [
        "#### Step 01. overlap 이라는 중첩된 리스트 준비하기"
      ],
      "metadata": {
        "id": "f3cDkfHL_y5n"
      }
    },
    {
      "cell_type": "markdown",
      "source": [
        "##### a. overlap 선언"
      ],
      "metadata": {
        "id": "fLHOmzOaAM45"
      }
    },
    {
      "cell_type": "code",
      "source": [
        "overlap = [[1, 2], 3, [[4, 5, 6], 7], 8, 9]"
      ],
      "metadata": {
        "id": "YQ-MDq-o_8iz"
      },
      "execution_count": 4,
      "outputs": []
    },
    {
      "cell_type": "markdown",
      "source": [
        "##### b. 이 overlap 이라는 리스트를 컬렉션에 두고 한 요소 씩 출력해보기"
      ],
      "metadata": {
        "id": "CfwSYXhaABbA"
      }
    },
    {
      "cell_type": "code",
      "source": [
        "for element in overlap:\n",
        "    print(element)"
      ],
      "metadata": {
        "colab": {
          "base_uri": "https://localhost:8080/"
        },
        "id": "dgSrnFQmAbeT",
        "outputId": "e1eff060-e6eb-4454-de96-93c008cc16d1"
      },
      "execution_count": 5,
      "outputs": [
        {
          "output_type": "stream",
          "name": "stdout",
          "text": [
            "[1, 2]\n",
            "3\n",
            "[[4, 5, 6], 7]\n",
            "8\n",
            "9\n"
          ]
        }
      ]
    },
    {
      "cell_type": "markdown",
      "source": [
        "- 가장 바깥 괄호를 기준으로 요소가 출력되는 것으로 확인 할 수 있습니다."
      ],
      "metadata": {
        "id": "yY-_6bJeAlhB"
      }
    },
    {
      "cell_type": "markdown",
      "source": [
        "#### Step 02. 리스트를 평탄화하는 함수 정의\n",
        "- 중첩된 리스트가 있을 때 중첩을 모두 제거 후, 1차원 리스트로 만드는 것을 일컫음"
      ],
      "metadata": {
        "id": "NKmIT_oPAy3x"
      }
    },
    {
      "cell_type": "code",
      "source": [
        "def flatten(data):\n",
        "    output = []  # 빈 리스트를 만듭니다.\n",
        "\n",
        "    # 반복문과 재귀를 활용하여 함수 채워봐요.\n",
        "    for e in data:\n",
        "        if type(e) == list:\n",
        "            output += flatten(e)\n",
        "        else:\n",
        "            output.append(e)\n",
        "\n",
        "    return output"
      ],
      "metadata": {
        "id": "jnCpmhuQBHZr"
      },
      "execution_count": 6,
      "outputs": []
    },
    {
      "cell_type": "markdown",
      "source": [
        "#### Step 03. 실제로 함수를 이용하여 결과 값 확인해보기"
      ],
      "metadata": {
        "id": "aNhPUjZlB0kx"
      }
    },
    {
      "cell_type": "code",
      "source": [
        "a = [[1, 2], 3, [[4, 5, 6], 7], 8, 9]\n",
        "flatten(a)"
      ],
      "metadata": {
        "colab": {
          "base_uri": "https://localhost:8080/"
        },
        "id": "-hTec_eRB6Xo",
        "outputId": "21633f7e-7902-4ba0-f489-96b49daa5a87"
      },
      "execution_count": 7,
      "outputs": [
        {
          "output_type": "execute_result",
          "data": {
            "text/plain": [
              "[1, 2, 3, 4, 5, 6, 7, 8, 9]"
            ]
          },
          "metadata": {},
          "execution_count": 7
        }
      ]
    },
    {
      "cell_type": "code",
      "source": [
        "flatten(overlap)"
      ],
      "metadata": {
        "colab": {
          "base_uri": "https://localhost:8080/"
        },
        "id": "XPZxym36CBED",
        "outputId": "73144dff-aa8e-44a1-a7ff-1055ebb689ee"
      },
      "execution_count": 8,
      "outputs": [
        {
          "output_type": "execute_result",
          "data": {
            "text/plain": [
              "[1, 2, 3, 4, 5, 6, 7, 8, 9]"
            ]
          },
          "metadata": {},
          "execution_count": 8
        }
      ]
    },
    {
      "cell_type": "markdown",
      "source": [
        "# 프로젝트 3 : 10 이하 숫자만 곱해주는 함수"
      ],
      "metadata": {
        "id": "mQt8BgqgCKHM"
      }
    },
    {
      "cell_type": "markdown",
      "source": [
        "#### Step 01. 테스트에 사용할 변수와 값 준비하기"
      ],
      "metadata": {
        "id": "7PyDolpdCOjj"
      }
    },
    {
      "cell_type": "markdown",
      "source": [
        "##### a. 정수 x1과 실수 x2를 선언"
      ],
      "metadata": {
        "id": "1dZtoIhLCgjr"
      }
    },
    {
      "cell_type": "code",
      "source": [
        "x1 = 10\n",
        "x2 = 10.0"
      ],
      "metadata": {
        "id": "OTAr4bMmCchp"
      },
      "execution_count": 9,
      "outputs": []
    },
    {
      "cell_type": "markdown",
      "source": [
        "##### b. 정수가 맞는지 간단하게 if문을 통해 출력하여 확인"
      ],
      "metadata": {
        "id": "eQ3dBzYrCw6R"
      }
    },
    {
      "cell_type": "code",
      "source": [
        "print('---------- 판별 시작 ----------')\n",
        "print()\n",
        "\n",
        "if type(x1) == int:\n",
        "  print('x1은 정수입니다.')\n",
        "\n",
        "if type(x2) == int:\n",
        "  print('x2는 정수입니다.')\n",
        "\n",
        "print()\n",
        "print('---------- 판별 끝 ----------')"
      ],
      "metadata": {
        "colab": {
          "base_uri": "https://localhost:8080/"
        },
        "id": "0GVcchUgC8kR",
        "outputId": "f048c638-9571-422c-ad75-0ba1d5364594"
      },
      "execution_count": 10,
      "outputs": [
        {
          "output_type": "stream",
          "name": "stdout",
          "text": [
            "---------- 판별 시작 ----------\n",
            "\n",
            "x1은 정수입니다.\n",
            "\n",
            "---------- 판별 끝 ----------\n"
          ]
        }
      ]
    },
    {
      "cell_type": "markdown",
      "source": [
        "##### c. 기존의 방법으로는 자료형이 실수인 경우에는 판별하지 못하는 것을 확인\n",
        "- 다른 방법 중 하나인, 나머지 연산자로 1을 나누었을 때, 나머지가 0이면 정수인 방법을 이용해보겠습니다."
      ],
      "metadata": {
        "id": "TcGGg0DMDeko"
      }
    },
    {
      "cell_type": "code",
      "source": [
        "print('---------- 판별 시작 ----------')\n",
        "print()\n",
        "\n",
        "if x1 % 1 == 0:\n",
        "  print('x1은 정수입니다.')\n",
        "\n",
        "if x2 % 1 == 0:\n",
        "  print('x2는 정수입니다.')\n",
        "\n",
        "print()\n",
        "print('---------- 판별 끝 ----------')"
      ],
      "metadata": {
        "colab": {
          "base_uri": "https://localhost:8080/"
        },
        "id": "TwUs7S-WD_jR",
        "outputId": "531edf72-f7a6-4842-8a80-45c1bbafaf1a"
      },
      "execution_count": 11,
      "outputs": [
        {
          "output_type": "stream",
          "name": "stdout",
          "text": [
            "---------- 판별 시작 ----------\n",
            "\n",
            "x1은 정수입니다.\n",
            "x2는 정수입니다.\n",
            "\n",
            "---------- 판별 끝 ----------\n"
          ]
        }
      ]
    },
    {
      "cell_type": "markdown",
      "source": [
        "#### Step 02. 나눈 값이 정수가 맞는지 확인하는 함수 정의"
      ],
      "metadata": {
        "id": "jnke800U80JY"
      }
    },
    {
      "cell_type": "code",
      "source": [
        "def int_divider(x, y):\n",
        "    # if ~ else 문을 활용하여 함수를 완성해봐요!\n",
        "    answer = None\n",
        "    if x % y == 0:\n",
        "      answer = int(x / y)\n",
        "    else:\n",
        "      answer = None\n",
        "\n",
        "    return answer"
      ],
      "metadata": {
        "id": "Dtno2ISi9Izw"
      },
      "execution_count": 12,
      "outputs": []
    },
    {
      "cell_type": "markdown",
      "source": [
        "### _**본격적인**_ 프로젝트 3의 시작\n",
        "##### 세부 내용\n",
        "- 함수의 input argument count에 관계 X\n",
        "- 10 이하의 숫자면 모두 곱하여 Return 하는 함수"
      ],
      "metadata": {
        "id": "-0RLsCUb93fh"
      }
    },
    {
      "cell_type": "markdown",
      "source": [
        "#### Step 03. 요구사항에 맞는 Multiplier 함수 정의"
      ],
      "metadata": {
        "id": "0nY7mvOj-unc"
      }
    },
    {
      "cell_type": "code",
      "source": [
        "def mul(*values):\n",
        "    # pass를 활용하여 함수를 완성해봐요!\n",
        "\n",
        "    # MARK: 변수 초기화\n",
        "    output = 1\n",
        "\n",
        "    for num in values:\n",
        "        if num <= 10:\n",
        "            output *= num\n",
        "        else:\n",
        "            pass\n",
        "\n",
        "    return output"
      ],
      "metadata": {
        "id": "dc9-B215-sXC"
      },
      "execution_count": 13,
      "outputs": []
    },
    {
      "cell_type": "markdown",
      "source": [
        "#### Step 04. 실제로 함수를 이용하여 결과 값 확인해보기"
      ],
      "metadata": {
        "id": "pw-S_eCX_x8c"
      }
    },
    {
      "cell_type": "code",
      "source": [
        "mul(2, 3, 4, 5)"
      ],
      "metadata": {
        "colab": {
          "base_uri": "https://localhost:8080/"
        },
        "id": "evG3XkXX_2vn",
        "outputId": "cb87f691-1b92-4a94-b6d3-5f2dce811790"
      },
      "execution_count": 14,
      "outputs": [
        {
          "output_type": "execute_result",
          "data": {
            "text/plain": [
              "120"
            ]
          },
          "metadata": {},
          "execution_count": 14
        }
      ]
    },
    {
      "cell_type": "code",
      "source": [
        "mul(3, 12, 10)"
      ],
      "metadata": {
        "colab": {
          "base_uri": "https://localhost:8080/"
        },
        "id": "XszkFBXk_7cY",
        "outputId": "69efb9dd-9b4e-4a19-b2c4-159d860b65b8"
      },
      "execution_count": 15,
      "outputs": [
        {
          "output_type": "execute_result",
          "data": {
            "text/plain": [
              "30"
            ]
          },
          "metadata": {},
          "execution_count": 15
        }
      ]
    }
  ]
}