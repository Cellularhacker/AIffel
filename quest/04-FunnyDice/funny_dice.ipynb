{
  "nbformat": 4,
  "nbformat_minor": 0,
  "metadata": {
    "colab": {
      "provenance": [],
      "toc_visible": true
    },
    "kernelspec": {
      "name": "python3",
      "display_name": "Python 3"
    },
    "language_info": {
      "name": "python"
    }
  },
  "cells": [
    {
      "cell_type": "markdown",
      "source": [
        "# Quest04 - n면체 주사위 (다면체 주사위)"
      ],
      "metadata": {
        "id": "TP8ERR8mQYHi"
      }
    },
    {
      "cell_type": "markdown",
      "source": [
        "### 코드 작성"
      ],
      "metadata": {
        "id": "pfTOEZybE8Q9"
      }
    },
    {
      "cell_type": "code",
      "source": [
        "from random import randrange\n",
        "\n",
        "# Q. n면체 주사위 위젯의 전체 코드를 작성해봅시다.\n",
        "\n",
        "class FunnyDice:\n",
        "    def __init__(self, n=6):\n",
        "        # MARK: Safety code - 주사위의 최소 눈의 값은 1으로 하고, 다른 형태의 자료형을 입력받는다고 하더라도 강제로 int형으로 변형하여 진행이 되게끔 합니다.\n",
        "        n = int(n)\n",
        "        if (n < 1):\n",
        "            n = 1\n",
        "\n",
        "        self.n = n\n",
        "\n",
        "    # METHOD: throw - 설정한 주사위의 눈의 최대 값\n",
        "    def throw(self):\n",
        "        self.val = randrange(0, self.n) + 1\n",
        "\n",
        "    def getval(self):\n",
        "        return self.val\n",
        "\n",
        "    def setval(self, val:int):\n",
        "        if (val < 1 or val > self.n):\n",
        "            msg = \"|  __ 입력하신 `{0}`은(는) 주사위에 없는 숫자 입니다. 주사위는 `1` ~ `{1}`까지 있습니다. __\".format(val, self.n)\n",
        "            raise ValueError(msg)\n",
        "\n",
        "        self.val = val\n",
        "\n",
        "def get_inputs():\n",
        "    n = int(input(\"|  → 주사위 면의 개수를 입력해주세요: \"))\n",
        "\n",
        "    return n"
      ],
      "metadata": {
        "id": "fx09i7sKEv4H"
      },
      "execution_count": 4,
      "outputs": []
    },
    {
      "cell_type": "markdown",
      "source": [
        "### main 코드 작성"
      ],
      "metadata": {
        "id": "68wUWoNAG23k"
      }
    },
    {
      "cell_type": "code",
      "source": [
        "def main():\n",
        "    print(\"|\" + \"=\" * 20)\n",
        "    print(\"|\")\n",
        "    print(\"|\")\n",
        "    n = get_inputs()\n",
        "    mydice = FunnyDice(n)\n",
        "    mydice.throw()\n",
        "    print(\"|  행운의 숫자는? {0}\".format(mydice.getval()))\n",
        "    print(\"|\")\n",
        "    print(\"|\")\n",
        "    print(\"|  いかさまサイコロって知ってますか？\")\n",
        "    print(\"|  사기 주사위(혹은 조작된 주사위, 아카사마 주시위) 라고 들어보셨나요?\")\n",
        "    print(\"|  한번 체험을 해봅시다!\")\n",
        "    val = int(input(\"|  → 내가 나오게 하고 싶은 주사위의 눈의 숫자를 입력해주세요: \"))\n",
        "    mydice.setval(val)\n",
        "    print(\"|  행운의 숫자는? {0}\".format(mydice.getval()))\n",
        "    print(\"|\")\n",
        "    print(\"|\")\n",
        "    print(\"|  도박중독 상담은 국번없이 1336 입니다.\")\n",
        "    print(\"|\")\n",
        "    print(\"|\")\n",
        "    print(\"|\" + \"=\" * 20)\n"
      ],
      "metadata": {
        "id": "ZIgoLjarG192"
      },
      "execution_count": 5,
      "outputs": []
    },
    {
      "cell_type": "markdown",
      "source": [
        "### main 코드 실행"
      ],
      "metadata": {
        "id": "O9uuycNPG_gv"
      }
    },
    {
      "cell_type": "code",
      "source": [
        "if __name__ == '__main__':\n",
        "    main()\n"
      ],
      "metadata": {
        "colab": {
          "base_uri": "https://localhost:8080/"
        },
        "id": "9eDrmpTlHBeG",
        "outputId": "f5ab1f6e-0e77-43ba-88e0-f4b1eeb56820"
      },
      "execution_count": 6,
      "outputs": [
        {
          "output_type": "stream",
          "name": "stdout",
          "text": [
            "|====================\n",
            "|\n",
            "|\n",
            "|  → 주사위 면의 개수를 입력해주세요: 120\n",
            "|  행운의 숫자는? 7\n",
            "|\n",
            "|\n",
            "|  いかさまサイコロって知ってますか？\n",
            "|  사기 주사위(혹은 조작된 주사위, 아카사마 주시위) 라고 들어보셨나요?\n",
            "|  한번 체험을 해봅시다!\n",
            "|  → 내가 나오게 하고 싶은 주사위의 눈의 숫자를 입력해주세요: 60\n",
            "|  행운의 숫자는? 60\n",
            "|\n",
            "|\n",
            "|  도박중독 상담은 국번없이 1336 입니다.\n",
            "|\n",
            "|\n",
            "|====================\n"
          ]
        }
      ]
    }
  ]
}